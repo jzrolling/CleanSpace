{
 "cells": [
  {
   "cell_type": "code",
   "execution_count": 2,
   "id": "0143d85d-d385-47d5-a525-1157519a6f03",
   "metadata": {
    "tags": []
   },
   "outputs": [],
   "source": [
    "import yaml\n",
    "\n",
    "def read_yaml(file_path):\n",
    "    with open(file_path, \"r\") as f:\n",
    "        return yaml.safe_load(f)"
   ]
  },
  {
   "cell_type": "code",
   "execution_count": 18,
   "id": "9e72dbe2-29da-42ed-9db8-add96c1d2dc1",
   "metadata": {
    "tags": []
   },
   "outputs": [
    {
     "name": "stdout",
     "output_type": "stream",
     "text": [
      "Help on function dump in module yaml:\n",
      "\n",
      "dump(data, stream=None, Dumper=<class 'yaml.dumper.Dumper'>, **kwds)\n",
      "    Serialize a Python object into a YAML stream.\n",
      "    If stream is None, return the produced string instead.\n",
      "\n"
     ]
    }
   ],
   "source": [
    "help(yaml.)"
   ]
  },
  {
   "cell_type": "code",
   "execution_count": 5,
   "id": "853f3e56-49bc-4bfc-ab13-3493b003e965",
   "metadata": {
    "tags": []
   },
   "outputs": [],
   "source": [
    "import configparser\n",
    "\n",
    "class Config:\n",
    "    def __init__(self, configfile):\n",
    "        self.config = configparser.ConfigParser()\n",
    "        self.config.read(configfile)\n",
    "        \n",
    "    def update(self,config_dict):\n",
    "        \"\"\"\n",
    "        future func\n",
    "        \"\"\"\n",
    "        return None"
   ]
  },
  {
   "cell_type": "code",
   "execution_count": 7,
   "id": "68d38dd9-bff6-419e-a752-267b22e2b7ab",
   "metadata": {
    "tags": []
   },
   "outputs": [],
   "source": [
    "config = Config('/Users/jz-rolling/Downloads/OMEGA2-master/OMEGA2_dash/OMEGA2/configurations/config_msm.ini')"
   ]
  },
  {
   "cell_type": "code",
   "execution_count": 17,
   "id": "3c8be84f-99ba-4788-bb8d-5f57717de199",
   "metadata": {
    "tags": []
   },
   "outputs": [
    {
     "data": {
      "text/plain": [
       "{'AUTHOR': 'jz-rolling',\n",
       " 'SYSTEM': {'VERBOSE': False},\n",
       " 'EMAIL': 'jzrolling@outlook.com',\n",
       " 'FEATURE': {'SIGMAS': [0.3, 0.8, 1.5, 3, 5],\n",
       "  'NUM_WORKERS': 12,\n",
       "  'ROG': True,\n",
       "  'RIDGE': True,\n",
       "  'SOBEL': True,\n",
       "  'SHAPEINDEX': True,\n",
       "  'SELEM': [1, 'square', 5]},\n",
       " 'IMAGE': {'EDGE': 0.2, 'ROG_SIGMAS': [0.5, 10]},\n",
       " 'SEGMENTATION': {'SHAPEINDEX': {'SHAPEINDEX_SIGMA': 1,\n",
       "   'SHAPEINDEX_LOW': 25,\n",
       "   'SHAPEINDEX_HIGH': 85,\n",
       "   'MIN_SEED_SIZE': 50},\n",
       "  'MASK': {'METHOD': 1}}}"
      ]
     },
     "execution_count": 17,
     "metadata": {},
     "output_type": "execute_result"
    }
   ],
   "source": [
    "config = read_yaml('../momia2/assets/test_config.yaml')\n",
    "config"
   ]
  },
  {
   "cell_type": "code",
   "execution_count": null,
   "id": "d9979b51-6d5b-4a28-a36d-9e55b39150ec",
   "metadata": {},
   "outputs": [],
   "source": []
  }
 ],
 "metadata": {
  "kernelspec": {
   "display_name": "Python 3 (ipykernel)",
   "language": "python",
   "name": "python3"
  },
  "language_info": {
   "codemirror_mode": {
    "name": "ipython",
    "version": 3
   },
   "file_extension": ".py",
   "mimetype": "text/x-python",
   "name": "python",
   "nbconvert_exporter": "python",
   "pygments_lexer": "ipython3",
   "version": "3.11.5"
  }
 },
 "nbformat": 4,
 "nbformat_minor": 5
}
